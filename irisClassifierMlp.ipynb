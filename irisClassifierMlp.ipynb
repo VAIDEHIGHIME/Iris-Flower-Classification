{
 "cells": [
  {
   "cell_type": "code",
   "execution_count": 1,
   "metadata": {},
   "outputs": [],
   "source": [
    "from numpy import exp, array, random, dot\n",
    "import numpy\n",
    "import pandas\n",
    "import matplotlib.pyplot as plt\n",
    "from tkinter import *\n",
    "import tkinter.messagebox\n"
   ]
  },
  {
   "cell_type": "code",
   "execution_count": 2,
   "metadata": {},
   "outputs": [],
   "source": [
    "filename = 'irisdata.csv'\n",
    "names = ['sepal_length', 'sepal_width', 'petal_length', 'petal_width','output']\n",
    "data = pandas.read_csv(filename,names=names)\n",
    "features=4\n",
    "batch=120\n",
    "inputMatrix = [[0 for x in range(features)] for y in range(batch)] \n",
    "for i in range(batch):\n",
    "    inputMatrix[i][0]=data['sepal_length'][i]\n",
    "    inputMatrix[i][1]=data['sepal_width'][i]\n",
    "    inputMatrix[i][2]=data['petal_length'][i]\n",
    "    inputMatrix[i][3]=data['petal_width'][i]\n",
    "output=3\n",
    "outputMatrix=[]\n",
    "for i in range(batch):\n",
    "    if(data['output'][i]=='Iris-setosa'):\n",
    "        outputMatrix.append([1,0,0])\n",
    "    elif(data['output'][i]=='Iris-versicolor'):\n",
    "        outputMatrix.append([0,1,0])\n",
    "    else:\n",
    "        outputMatrix.append([0,0,1])"
   ]
  },
  {
   "cell_type": "code",
   "execution_count": 3,
   "metadata": {},
   "outputs": [
    {
     "name": "stdout",
     "output_type": "stream",
     "text": [
      "Stage 1: Random starting synaptic weights: \n",
      "    Layer 1 (5 neurons, each with 4 inputs): \n",
      "[[-0.16595599  0.44064899 -0.99977125 -0.39533485 -0.70648822]\n",
      " [-0.81532281 -0.62747958 -0.30887855 -0.20646505  0.07763347]\n",
      " [-0.16161097  0.370439   -0.5910955   0.75623487 -0.94522481]\n",
      " [ 0.34093502 -0.1653904   0.11737966 -0.71922612 -0.60379702]]\n",
      "    Layer 2 (3 neuron, with 5 inputs):\n",
      "[[ 0.60148914  0.93652315 -0.37315164]\n",
      " [ 0.38464523  0.7527783   0.78921333]\n",
      " [-0.82991158 -0.92189043 -0.66033916]\n",
      " [ 0.75628501 -0.80330633 -0.15778475]\n",
      " [ 0.91577906  0.06633057  0.38375423]]\n"
     ]
    },
    {
     "data": {
      "image/png": "[encoded data removed]",
      "text/plain": [
       "<Figure size 432x288 with 1 Axes>"
      ]
     },
     "metadata": {},
     "output_type": "display_data"
    },
    {
     "name": "stdout",
     "output_type": "stream",
     "text": [
      "Stage 2: New synaptic weights after training: \n",
      "    Layer 1 (5 neurons, each with 4 inputs): \n",
      "[[ -1.76760375 -14.87355588   6.62573581  -5.23460832  -1.85036972]\n",
      " [ -1.55618307 -10.10448941   4.25246987  -1.03042442  -0.08444809]\n",
      " [ -1.50850314  -6.33380383   3.10224718  -5.63440149  -2.6338347 ]\n",
      " [ -0.16767822  -1.91666934   1.15931269  -3.02098405  -1.26343401]]\n",
      "    Layer 2 (3 neuron, with 5 inputs):\n",
      "[[  0.30242684   0.73424471  -0.68389524]\n",
      " [-10.08762943  -6.32530266  -6.95865309]\n",
      " [ -7.80196088  -9.13585539  -9.36458521]\n",
      " [ -3.90495544  -3.02811439  -2.33525113]\n",
      " [ -9.82361099  -2.97466657  -5.49846412]]\n"
     ]
    }
   ],
   "source": [
    "class NeuronLayer():\n",
    "    def __init__(self, number_of_neurons, number_of_inputs_per_neuron):\n",
    "        self.synaptic_weights = 2 * random.random((number_of_inputs_per_neuron, number_of_neurons)) - 1\n",
    "\n",
    "\n",
    "class NeuralNetwork():\n",
    "    def __init__(self, layer1, layer2):\n",
    "        self.layer1 = layer1\n",
    "        self.layer2 = layer2\n",
    "    def __sigmoid(self, x):\n",
    "        return 1 / (1 + exp(-x))\n",
    "    def __sigmoid_derivative(self, x):\n",
    "        return x * (1 - x)\n",
    "    def train(self, training_set_inputs, training_set_outputs, number_of_training_iterations):\n",
    "        errorList=[]\n",
    "        iterations=[]\n",
    "        for iteration in range(number_of_training_iterations):\n",
    "            output_from_layer_1, output_from_layer_2 = self.think(training_set_inputs)\n",
    "            layer2_error = training_set_outputs.T - output_from_layer_2\n",
    "            layer2_delta = layer2_error * self.__sigmoid_derivative(output_from_layer_2)\n",
    "            layer1_error = layer2_delta.dot(self.layer2.synaptic_weights.T)\n",
    "            layer1_delta = layer1_error * self.__sigmoid_derivative(output_from_layer_1)\n",
    "            layer1_adjustment = training_set_inputs.T.dot(layer1_delta)\n",
    "            layer2_adjustment = output_from_layer_1.T.dot(layer2_delta)\n",
    "            self.layer1.synaptic_weights += layer1_adjustment\n",
    "            self.layer2.synaptic_weights += layer2_adjustment\n",
    "            error=0.0\n",
    "            errorSet=0.0\n",
    "            for i in range(batch):\n",
    "                for j in range(output):\n",
    "                    error=(error+layer2_error[i][j]**2)\n",
    "                errorSet=errorSet+error\n",
    "                error=0\n",
    "            errorList.append(errorSet/batch)\n",
    "            iterations.append(iteration)\n",
    "        plt.plot(iterations,errorList)\n",
    "        plt.show()\n",
    "               \n",
    "            \n",
    "        \n",
    "    def think(self, inputs):\n",
    "        output_from_layer1 = self.__sigmoid(dot(inputs, self.layer1.synaptic_weights))\n",
    "        output_from_layer2 = self.__sigmoid(dot(output_from_layer1, self.layer2.synaptic_weights))\n",
    "        return output_from_layer1, output_from_layer2\n",
    "    def print_weights(self):\n",
    "        print (\"    Layer 1 (5 neurons, each with 4 inputs): \")\n",
    "        print (self.layer1.synaptic_weights)\n",
    "        print (\"    Layer 2 (3 neuron, with 5 inputs):\")\n",
    "        print (self.layer2.synaptic_weights)\n",
    "\n",
    "if __name__ == \"__main__\":\n",
    "    random.seed(1)\n",
    "    layer1 = NeuronLayer(5, 4)\n",
    "    layer2 = NeuronLayer(3, 5)\n",
    "    neural_network = NeuralNetwork(layer1, layer2)\n",
    "    print (\"Stage 1: Random starting synaptic weights: \")\n",
    "    neural_network.print_weights()\n",
    "    training_set_inputs = array(inputMatrix)\n",
    "    training_set_outputs = array(outputMatrix).T\n",
    "    neural_network.train(training_set_inputs, training_set_outputs, 10000)\n",
    "    print (\"Stage 2: New synaptic weights after training: \")\n",
    "    neural_network.print_weights()   "
   ]
  },
  {
   "cell_type": "code",
   "execution_count": 13,
   "metadata": {},
   "outputs": [
    {
     "name": "stdout",
     "output_type": "stream",
     "text": [
      "Iris-setosa\n"
     ]
    }
   ],
   "source": [
    "\n",
    "root = Tk()\n",
    "root.geometry('500x500')\n",
    "root.resizable(0, 0)\n",
    "root.title(\"Predict Iris Category\")\n",
    "\n",
    "sl=DoubleVar()\n",
    "sw=DoubleVar()\n",
    "pl=DoubleVar()\n",
    "pw=DoubleVar()\n",
    "\n",
    "\n",
    "def predict():\n",
    "    lsl=sl.get()\n",
    "    lsw=sw.get()\n",
    "    lpl=pl.get()\n",
    "    lpw=pw.get()    \n",
    "    feature=[lsl,lsw,lpl,lpw]\n",
    "    hidden_state, output = neural_network.think(array(feature))\n",
    "    if output[0]!=0 and output[0]>output[1] and output[0]>output[2]:\n",
    "        print(\"Iris-setosa\")\n",
    "        tkinter.messagebox.showinfo(\"Predictions\",\"Iris-setosa\")\n",
    "    elif output[1]!=0 and output[1]>output[0] and output[1]>output[2]:\n",
    "        print(\"Iris-versicolor\")\n",
    "        tkinter.messagebox.showinfo(\"Predictions\",\"Iris-versicolor\")\n",
    "    else:\n",
    "        print(\"Iris-Verginica\")\n",
    "        tkinter.messagebox.showinfo(\"Predictions\",\"Iris-Verginica\")\n",
    "    \n",
    "    \n",
    "label_0 = Label(root, text=\"Predict Iris flower Category\",width=20,font=(\"bold\", 20))\n",
    "label_0.place(x=90,y=53)\n",
    "\n",
    "label_1 = Label(root, text=\"Sepal Length\",width=20,font=(\"bold\", 10))\n",
    "label_1.place(x=80,y=180)\n",
    "entry_1 = Entry(root,textvar=sl)\n",
    "entry_1.place(x=240,y=180)\n",
    "\n",
    "label_2 = Label(root, text=\"Sepal Width\",width=20,font=(\"bold\", 10))\n",
    "label_2.place(x=80,y=210)\n",
    "entry_2 = Entry(root,textvar=sw)\n",
    "entry_2.place(x=240,y=230)\n",
    "\n",
    "label_3 = Label(root, text=\"Petal Length\",width=20,font=(\"bold\", 10))\n",
    "label_3.place(x=80,y=260)\n",
    "entry_3 = Entry(root,textvar=pl)\n",
    "entry_3.place(x=240,y=290)\n",
    "\n",
    "label_4 = Label(root, text=\"Petal Width\",width=20,font=(\"bold\", 10))\n",
    "label_4.place(x=80,y=310)\n",
    "entry_4 = Entry(root,textvar=pw)\n",
    "entry_4.place(x=240,y=330)\n",
    "\n",
    "\n",
    "Button(root, text='Predict',width=20,bg='brown',fg='white',command=predict).place(x=180,y=380)\n",
    "root.mainloop()\n",
    "\n"
   ]
  },
  {
   "cell_type": "code",
   "execution_count": null,
   "metadata": {},
   "outputs": [],
   "source": []
  },
  {
   "cell_type": "code",
   "execution_count": null,
   "metadata": {},
   "outputs": [],
   "source": []
  }
 ],
 "metadata": {
  "kernelspec": {
   "display_name": "Python 3",
   "language": "python",
   "name": "python3"
  },
  "language_info": {
   "codemirror_mode": {
    "name": "ipython",
    "version": 3
   },
   "file_extension": ".py",
   "mimetype": "text/x-python",
   "name": "python",
   "nbconvert_exporter": "python",
   "pygments_lexer": "ipython3",
   "version": "3.6.5"
  }
 },
 "nbformat": 4,
 "nbformat_minor": 2
}
